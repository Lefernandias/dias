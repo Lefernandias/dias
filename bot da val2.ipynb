{
 "cells": [
  {
   "cell_type": "code",
   "execution_count": null,
   "id": "7167f842",
   "metadata": {},
   "outputs": [
    {
     "ename": "TypeError",
     "evalue": "'int' object is not callable",
     "output_type": "error",
     "traceback": [
      "\u001b[1;31m---------------------------------------------------------------------------\u001b[0m",
      "\u001b[1;31mTypeError\u001b[0m                                 Traceback (most recent call last)",
      "\u001b[1;32m<ipython-input-1-b7602acacec1>\u001b[0m in \u001b[0;36m<module>\u001b[1;34m\u001b[0m\n\u001b[0;32m     83\u001b[0m \u001b[0mloga\u001b[0m\u001b[1;33m(\u001b[0m\u001b[1;33m)\u001b[0m\u001b[1;33m\u001b[0m\u001b[1;33m\u001b[0m\u001b[0m\n\u001b[0;32m     84\u001b[0m \u001b[0mmenu\u001b[0m\u001b[1;33m(\u001b[0m\u001b[1;33m)\u001b[0m\u001b[1;33m\u001b[0m\u001b[1;33m\u001b[0m\u001b[0m\n\u001b[1;32m---> 85\u001b[1;33m \u001b[0mbusca\u001b[0m\u001b[1;33m(\u001b[0m\u001b[1;33m)\u001b[0m\u001b[1;33m\u001b[0m\u001b[1;33m\u001b[0m\u001b[0m\n\u001b[0m",
      "\u001b[1;32m<ipython-input-1-b7602acacec1>\u001b[0m in \u001b[0;36mbusca\u001b[1;34m()\u001b[0m\n\u001b[0;32m     40\u001b[0m \u001b[1;32mdef\u001b[0m \u001b[0mbusca\u001b[0m\u001b[1;33m(\u001b[0m\u001b[1;33m)\u001b[0m\u001b[1;33m:\u001b[0m \u001b[1;31m#busca\u001b[0m\u001b[1;33m\u001b[0m\u001b[1;33m\u001b[0m\u001b[0m\n\u001b[0;32m     41\u001b[0m     \u001b[0mtime\u001b[0m\u001b[1;33m.\u001b[0m\u001b[0msleep\u001b[0m \u001b[1;33m=\u001b[0m \u001b[1;36m10\u001b[0m\u001b[1;33m\u001b[0m\u001b[1;33m\u001b[0m\u001b[0m\n\u001b[1;32m---> 42\u001b[1;33m     \u001b[0mpyautogui\u001b[0m\u001b[1;33m.\u001b[0m\u001b[0mmoveTo\u001b[0m \u001b[1;33m(\u001b[0m\u001b[1;36m159\u001b[0m\u001b[1;33m,\u001b[0m \u001b[1;36m236\u001b[0m\u001b[1;33m)\u001b[0m\u001b[1;33m\u001b[0m\u001b[1;33m\u001b[0m\u001b[0m\n\u001b[0m\u001b[0;32m     43\u001b[0m     \u001b[0mpyautogui\u001b[0m\u001b[1;33m.\u001b[0m\u001b[0mdoubleClick\u001b[0m\u001b[1;33m(\u001b[0m\u001b[0mbutton\u001b[0m\u001b[1;33m=\u001b[0m\u001b[1;34m'left'\u001b[0m\u001b[1;33m)\u001b[0m\u001b[1;33m\u001b[0m\u001b[1;33m\u001b[0m\u001b[0m\n\u001b[0;32m     44\u001b[0m     \u001b[0mpyautogui\u001b[0m\u001b[1;33m.\u001b[0m\u001b[0mwrite\u001b[0m\u001b[1;33m(\u001b[0m\u001b[1;34m'DIGI'\u001b[0m\u001b[1;33m)\u001b[0m\u001b[1;33m\u001b[0m\u001b[1;33m\u001b[0m\u001b[0m\n",
      "\u001b[1;32m~\\Anaconda3\\lib\\site-packages\\pyautogui\\__init__.py\u001b[0m in \u001b[0;36mwrapper\u001b[1;34m(*args, **kwargs)\u001b[0m\n\u001b[0;32m    585\u001b[0m         \u001b[0mfailSafeCheck\u001b[0m\u001b[1;33m(\u001b[0m\u001b[1;33m)\u001b[0m\u001b[1;33m\u001b[0m\u001b[1;33m\u001b[0m\u001b[0m\n\u001b[0;32m    586\u001b[0m         \u001b[0mreturnVal\u001b[0m \u001b[1;33m=\u001b[0m \u001b[0mwrappedFunction\u001b[0m\u001b[1;33m(\u001b[0m\u001b[1;33m*\u001b[0m\u001b[0margs\u001b[0m\u001b[1;33m,\u001b[0m \u001b[1;33m**\u001b[0m\u001b[0mkwargs\u001b[0m\u001b[1;33m)\u001b[0m\u001b[1;33m\u001b[0m\u001b[1;33m\u001b[0m\u001b[0m\n\u001b[1;32m--> 587\u001b[1;33m         \u001b[0m_handlePause\u001b[0m\u001b[1;33m(\u001b[0m\u001b[0mkwargs\u001b[0m\u001b[1;33m.\u001b[0m\u001b[0mget\u001b[0m\u001b[1;33m(\u001b[0m\u001b[1;34m\"_pause\"\u001b[0m\u001b[1;33m,\u001b[0m \u001b[1;32mTrue\u001b[0m\u001b[1;33m)\u001b[0m\u001b[1;33m)\u001b[0m\u001b[1;33m\u001b[0m\u001b[1;33m\u001b[0m\u001b[0m\n\u001b[0m\u001b[0;32m    588\u001b[0m         \u001b[1;32mreturn\u001b[0m \u001b[0mreturnVal\u001b[0m\u001b[1;33m\u001b[0m\u001b[1;33m\u001b[0m\u001b[0m\n\u001b[0;32m    589\u001b[0m \u001b[1;33m\u001b[0m\u001b[0m\n",
      "\u001b[1;32m~\\Anaconda3\\lib\\site-packages\\pyautogui\\__init__.py\u001b[0m in \u001b[0;36m_handlePause\u001b[1;34m(_pause)\u001b[0m\n\u001b[0;32m    629\u001b[0m     \u001b[1;32mif\u001b[0m \u001b[0m_pause\u001b[0m\u001b[1;33m:\u001b[0m\u001b[1;33m\u001b[0m\u001b[1;33m\u001b[0m\u001b[0m\n\u001b[0;32m    630\u001b[0m         \u001b[1;32massert\u001b[0m \u001b[0misinstance\u001b[0m\u001b[1;33m(\u001b[0m\u001b[0mPAUSE\u001b[0m\u001b[1;33m,\u001b[0m \u001b[0mint\u001b[0m\u001b[1;33m)\u001b[0m \u001b[1;32mor\u001b[0m \u001b[0misinstance\u001b[0m\u001b[1;33m(\u001b[0m\u001b[0mPAUSE\u001b[0m\u001b[1;33m,\u001b[0m \u001b[0mfloat\u001b[0m\u001b[1;33m)\u001b[0m\u001b[1;33m\u001b[0m\u001b[1;33m\u001b[0m\u001b[0m\n\u001b[1;32m--> 631\u001b[1;33m         \u001b[0mtime\u001b[0m\u001b[1;33m.\u001b[0m\u001b[0msleep\u001b[0m\u001b[1;33m(\u001b[0m\u001b[0mPAUSE\u001b[0m\u001b[1;33m)\u001b[0m\u001b[1;33m\u001b[0m\u001b[1;33m\u001b[0m\u001b[0m\n\u001b[0m\u001b[0;32m    632\u001b[0m \u001b[1;33m\u001b[0m\u001b[0m\n\u001b[0;32m    633\u001b[0m \u001b[1;33m\u001b[0m\u001b[0m\n",
      "\u001b[1;31mTypeError\u001b[0m: 'int' object is not callable"
     ]
    }
   ],
   "source": [
    "import pyautogui\n",
    "import time\n",
    "\n",
    "# executa o aplicativo do abacos e faz login\n",
    "def loga():\n",
    "    #time.sleep(1)\n",
    "    #pyautogui.alert ('Processo cadastro de unidade de negocio será iniciado! ') # exibe mensagem no desktop para inico do programa\n",
    "    pyautogui.press('winleft') # função que clica no botão windows do mouse \n",
    "    time.sleep(3) #tempo de espera para iniciar proxima função\n",
    "    pyautogui.write('C:\\Aplicacao\\ABACOS.EXE')  # insere o endereço do executavel do kpl na barra de busca do menu do desktop\n",
    "    pyautogui.PAUSE = 1.0 #tempo de espera para iniciar proxima função \n",
    "    pyautogui.press('enter') #Executa o endereço inserido na busca\n",
    "    time.sleep(1) #tempo de espera para iniciar proxima função \n",
    "    pyautogui.moveTo (672, 672) # digitar no campo que informa o nome do usuário\n",
    "    pyautogui.write('leandrofer') # função que insere o nome do usuário\n",
    "    pyautogui.PAUSE = 0.5 #tempo de espera para iniciar proxima inserção\n",
    "    pyautogui.press('enter') #função que da enter para cursor pular de campoS\n",
    "    #pyautogui.moveTo (667, 398)\n",
    "    pyautogui.write('Synapcom2022@@') #função que insere a senha do usuário\n",
    "    pyautogui.PAUSE = 1.0 #tempo de espera para iniciar proxima inserçãoS\n",
    "    pyautogui.moveTo (638, 436) # clica no campo de logar\n",
    "    pyautogui.doubleClick(button='left') # duplo clique na campo de logar\n",
    "    time.sleep(15) #tempo de espera para finalizar o programa\n",
    "    #pyautogui.alert ('Logado com sucesso no Abacos!') #Fim do programa\n",
    "    #time.sleep(30)\n",
    "    \n",
    "    \n",
    "def menu():\n",
    "    #pyautogui.alert ('Processo de aprovação de notas fiscais será iniciado ')\n",
    "    time.sleep(7) #aguarda 10 segundos \n",
    "    pyautogui.moveTo (67, 637) #clica na barra de busca do menu\n",
    "    time.sleep(5) #aguarda 1 segundoc\n",
    "    pyautogui.doubleClick(button='left') #duplo click na barra\n",
    "    pyautogui.write('digitar') #Digita o atalho\n",
    "    pyautogui.press('enter') #função que da enter para cursor pular de campo\n",
    "    pyautogui.moveTo (112, 302) # Point(x=112, y=302)\n",
    "    pyautogui.doubleClick(button='left')\n",
    "    time.sleep(10)\n",
    "\n",
    "def busca(): #busca\n",
    "    time.sleep = 10\n",
    "    pyautogui.moveTo (159, 236)\n",
    "    pyautogui.doubleClick(button='left')\n",
    "    pyautogui.write('DIGI')\n",
    "    time.sleep(1)\n",
    "    pyautogui.press('enter')\n",
    "    #time.sleep(1)\n",
    "    #pyautogui.press('TAB')\n",
    "    #time.sleep(1)\n",
    "    #pyautogui.press('TAB')\n",
    "    #time.sleep(1)\n",
    "    #pyautogui.write('DIGI')\n",
    "    time.sleep(1)\n",
    "    pyautogui.press('TAB')\n",
    "    #pyautogui.press('enter')\n",
    "    pyautogui.press('TAB')\n",
    "    time.sleep(1)\n",
    "    #pyautogui.press('TAB')\n",
    "    time.sleep(1)\n",
    "    pyautogui.write('SY - COMPRAS')\n",
    "    time.sleep(1)\n",
    "    #pyautogui.press('enter')\n",
    "    pyautogui.press('TAB')\n",
    "    time.sleep(1)\n",
    "    pyautogui.press('TAB')\n",
    "    time.sleep(1)\n",
    "    pyautogui.press('TAB')\n",
    "    time.sleep(1)\n",
    "    pyautogui.write('01082021')\n",
    "    time.sleep(1)\n",
    "    pyautogui.press('TAB')\n",
    "    time.sleep(1)\n",
    "    #pyautogui.press('enter')\n",
    "    pyautogui.write('30092021')\n",
    "    time.sleep(1)\n",
    "    pyautogui.press('TAB')\n",
    "    time.sleep(1)\n",
    "    pyautogui.write('282828')\n",
    "    time.sleep(1)\n",
    "    pyautogui.hotkey('shift', 'enter')\n",
    "    time.sleep(3)\n",
    "\n",
    "loga()\n",
    "menu()\n",
    "busca()"
   ]
  },
  {
   "cell_type": "code",
   "execution_count": null,
   "id": "2d0e9ed7",
   "metadata": {},
   "outputs": [
    {
     "data": {
      "text/plain": [
       "Point(x=159, y=236)"
      ]
     },
     "execution_count": 3,
     "metadata": {},
     "output_type": "execute_result"
    }
   ],
   "source": [
    "import pyautogui\n",
    "\n",
    "pyautogui.position()"
   ]
  },
  {
   "cell_type": "code",
   "execution_count": null,
   "id": "6b587149",
   "metadata": {},
   "outputs": [],
   "source": []
  }
 ],
 "metadata": {
  "kernelspec": {
   "display_name": "Python 3",
   "language": "python",
   "name": "python3"
  },
  "language_info": {
   "codemirror_mode": {
    "name": "ipython",
    "version": 3
   },
   "file_extension": ".py",
   "mimetype": "text/x-python",
   "name": "python",
   "nbconvert_exporter": "python",
   "pygments_lexer": "ipython3",
   "version": "3.8.8"
  }
 },
 "nbformat": 4,
 "nbformat_minor": 5
}
