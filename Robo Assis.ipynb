{
 "cells": [
  {
   "cell_type": "code",
   "execution_count": 4,
   "id": "f8a4594c",
   "metadata": {
    "scrolled": true
   },
   "outputs": [
    {
     "ename": "KeyboardInterrupt",
     "evalue": "",
     "output_type": "error",
     "traceback": [
      "\u001b[1;31m---------------------------------------------------------------------------\u001b[0m",
      "\u001b[1;31mKeyboardInterrupt\u001b[0m                         Traceback (most recent call last)",
      "\u001b[1;32m<ipython-input-4-b9e946a72293>\u001b[0m in \u001b[0;36m<module>\u001b[1;34m\u001b[0m\n\u001b[0;32m     54\u001b[0m \u001b[1;33m\u001b[0m\u001b[0m\n\u001b[0;32m     55\u001b[0m \u001b[1;32mwhile\u001b[0m \u001b[1;32mTrue\u001b[0m\u001b[1;33m:\u001b[0m\u001b[1;33m\u001b[0m\u001b[1;33m\u001b[0m\u001b[0m\n\u001b[1;32m---> 56\u001b[1;33m     \u001b[0mloga\u001b[0m\u001b[1;33m(\u001b[0m\u001b[1;33m)\u001b[0m\u001b[1;33m\u001b[0m\u001b[1;33m\u001b[0m\u001b[0m\n\u001b[0m\u001b[0;32m     57\u001b[0m \u001b[1;33m\u001b[0m\u001b[0m\n\u001b[0;32m     58\u001b[0m \u001b[1;33m\u001b[0m\u001b[0m\n",
      "\u001b[1;32m<ipython-input-4-b9e946a72293>\u001b[0m in \u001b[0;36mloga\u001b[1;34m()\u001b[0m\n\u001b[0;32m     15\u001b[0m     \u001b[0mtime\u001b[0m\u001b[1;33m.\u001b[0m\u001b[0msleep\u001b[0m\u001b[1;33m(\u001b[0m\u001b[1;36m1\u001b[0m\u001b[1;33m)\u001b[0m\u001b[1;33m\u001b[0m\u001b[1;33m\u001b[0m\u001b[0m\n\u001b[0;32m     16\u001b[0m     \u001b[0mpyautogui\u001b[0m\u001b[1;33m.\u001b[0m\u001b[0mpress\u001b[0m\u001b[1;33m(\u001b[0m\u001b[1;34m'enter'\u001b[0m\u001b[1;33m)\u001b[0m\u001b[1;33m\u001b[0m\u001b[1;33m\u001b[0m\u001b[0m\n\u001b[1;32m---> 17\u001b[1;33m     \u001b[0mtime\u001b[0m\u001b[1;33m.\u001b[0m\u001b[0msleep\u001b[0m\u001b[1;33m(\u001b[0m\u001b[1;36m11\u001b[0m\u001b[1;33m)\u001b[0m\u001b[1;33m\u001b[0m\u001b[1;33m\u001b[0m\u001b[0m\n\u001b[0m\u001b[0;32m     18\u001b[0m     \u001b[0mpyautogui\u001b[0m\u001b[1;33m.\u001b[0m\u001b[0mhotkey\u001b[0m\u001b[1;33m(\u001b[0m\u001b[1;34m'ctrl'\u001b[0m\u001b[1;33m,\u001b[0m \u001b[1;34m'shift'\u001b[0m \u001b[1;33m,\u001b[0m\u001b[1;34m'r'\u001b[0m\u001b[1;33m)\u001b[0m\u001b[1;33m\u001b[0m\u001b[1;33m\u001b[0m\u001b[0m\n\u001b[0;32m     19\u001b[0m     \u001b[0mtime\u001b[0m\u001b[1;33m.\u001b[0m\u001b[0msleep\u001b[0m\u001b[1;33m(\u001b[0m\u001b[1;36m11\u001b[0m\u001b[1;33m)\u001b[0m\u001b[1;33m\u001b[0m\u001b[1;33m\u001b[0m\u001b[0m\n",
      "\u001b[1;31mKeyboardInterrupt\u001b[0m: "
     ]
    }
   ],
   "source": [
    "import time\n",
    "import pyautogui \n",
    "\n",
    "def loga():\n",
    "    \n",
    "    pyautogui.press('winleft') # função que clica no botão windows do mouse \n",
    "    time.sleep(1) #tempo de espera para iniciar proxima função\n",
    "    pyautogui.write('CHROME')  # insere o endereço do executavel do kpl na barra de busca do menu do desktop\n",
    "    pyautogui.PAUSE = 1.0 #tempo de espera para iniciar proxima função \n",
    "    pyautogui.press('enter')\n",
    "    time.sleep(1)\n",
    "    pyautogui.hotkey('winleft', 'up')\n",
    "    time.sleep(2)\n",
    "    pyautogui.write('https://indicacao.premioabradi.com.br/finalistas')\n",
    "    time.sleep(1)\n",
    "    pyautogui.press('enter')\n",
    "    time.sleep(11)\n",
    "    pyautogui.hotkey('ctrl', 'shift' ,'r')\n",
    "    time.sleep(11)\n",
    "    pyautogui.moveTo (-587, 14)\n",
    "    time.sleep(1)\n",
    "    pyautogui.click(button='left')\n",
    "    time.sleep(1)\n",
    "    pyautogui.moveTo (-639, 373)\n",
    "    time.sleep(1)\n",
    "    pyautogui.click(button='left')\n",
    "    time.sleep(5)\n",
    "    pyautogui.scroll(-1000)\n",
    "    time.sleep(1)\n",
    "    pyautogui.moveTo (-1014, 462)\n",
    "    time.sleep(1)\n",
    "    pyautogui.click(button='left')\n",
    "    time.sleep(3)\n",
    "    pyautogui.moveTo (-972, 681)\n",
    "    time.sleep(3)\n",
    "    pyautogui.click(button='left')\n",
    "    time.sleep(3)\n",
    "    pyautogui.moveTo (-1101, 597)\n",
    "    time.sleep(3)\n",
    "    pyautogui.click(button='left')\n",
    "    time.sleep(1)\n",
    "    pyautogui.moveTo (-934, 505)\n",
    "    time.sleep(1)\n",
    "    pyautogui.click(button='left')\n",
    "    time.sleep(1)\n",
    "    pyautogui.moveTo (-716, 355)\n",
    "    time.sleep(1)\n",
    "    pyautogui.click(button='left')\n",
    "    time.sleep(1)\n",
    "    pyautogui.moveTo (-22, -73)\n",
    "    pyautogui.click(button='left')\n",
    "    time.sleep(30)\n",
    "    \n",
    "    \n",
    "while True:\n",
    "    loga()\n",
    "     \n",
    "    \n",
    "    \n",
    "    \n",
    "\n",
    "    \n",
    "\n",
    "\n"
   ]
  },
  {
   "cell_type": "code",
   "execution_count": null,
   "id": "31e823df",
   "metadata": {},
   "outputs": [],
   "source": []
  },
  {
   "cell_type": "code",
   "execution_count": null,
   "id": "e5968300",
   "metadata": {
    "scrolled": true
   },
   "outputs": [],
   "source": [
    "https://indicacao.premioabradi.com.br/finalistashttps://indicacao.premioabradi.com.br/finalistas\n",
    "        "
   ]
  }
 ],
 "metadata": {
  "kernelspec": {
   "display_name": "Python 3",
   "language": "python",
   "name": "python3"
  },
  "language_info": {
   "codemirror_mode": {
    "name": "ipython",
    "version": 3
   },
   "file_extension": ".py",
   "mimetype": "text/x-python",
   "name": "python",
   "nbconvert_exporter": "python",
   "pygments_lexer": "ipython3",
   "version": "3.8.8"
  }
 },
 "nbformat": 4,
 "nbformat_minor": 5
}
