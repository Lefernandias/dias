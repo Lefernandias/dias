{
 "cells": [
  {
   "cell_type": "code",
   "execution_count": null,
   "id": "3d6425f5",
   "metadata": {},
   "outputs": [],
   "source": [
    "import pandas as pd\n",
    "import requests\n",
    "import json\n",
    "\n",
    "lojas = pd.read_excel (\"accout_vtex.xlsx\")\n",
    "dado2 = pd.read_excel (\"dado2.xlsx\")\n",
    "docas = pd.read_excel (\"docas.xlsx\")\n",
    "display(lojas)\n",
    "#display(dado2)\n",
    "display(docas)\n",
    "\n",
    "#def select():\n",
    "    #executar o select na base de pedido do abacos e realizar a contagem\n",
    "\n",
    "# \"  payload = \"{\\\"salesChannels\\\":[\\\"1\\\"],\\\"freightTableIds\\\":[\\\"162dcb0\\\",\\\"1a1f989\\\",\\\"1f87303\\\"],\\\"id\\\":\\\"19d418b\\\",\\\"name\\\":\\\"SY - EXPRESSO\\\",\\\"priority\\\":0,\\\"dockTimeFake\\\":\\\"00:00:00\\\",\\\"timeFakeOverhead\\\":\\\"00:00:00\\\"}\"\n",
    "    \n",
    "    \n",
    "    \n",
    "def conta():\n",
    "    for i, nome in enumerate(docas['account']):\n",
    "        salesChannels = str(docas.loc[i,\"salesChannels\"])\n",
    "        freightTableIds = str(docas.loc[i,\"freightTableIds\"])\n",
    "        name = str(docas.loc[i,\"name\"])\n",
    "        payload = \"{ \\\"salesChannels\"\\: f\"[\\\"{salesChannels}\\\"]\", \"freightTableIds\": f\"{freightTableIds}\" }\"\n",
    "        for i, nome in enumerate(lojas['conta']):\n",
    "            account = lojas.loc[i,\"conta\"]\n",
    "            akey = str(lojas.loc[i,\"aKey\"])\n",
    "            aToken = str(lojas.loc[i,\"aToken\"])\n",
    "            url = f\"https://{account}.vtexcommercestable.com.br/api/logistics/pvt/configuration/docks\"\n",
    "            headers = {\"Content-Type\": \"application/json\", \"X-VTEX-API-AppKey\": f\"{akey}\", \"X-VTEX-API-AppToken\": f\"{aToken}\"  }\n",
    "            response = requests.request(\"POST\", url, json=payload, headers=headers)\n",
    "            response = response.json()\n",
    "            #response_id = response['id']\n",
    "            print(response)\n",
    "            #grvar o response em outra tabela\n",
    "    \n",
    "conta()"
   ]
  },
  {
   "cell_type": "code",
   "execution_count": null,
   "id": "b43a15f1",
   "metadata": {},
   "outputs": [],
   "source": []
  }
 ],
 "metadata": {
  "kernelspec": {
   "display_name": "Python 3",
   "language": "python",
   "name": "python3"
  },
  "language_info": {
   "codemirror_mode": {
    "name": "ipython",
    "version": 3
   },
   "file_extension": ".py",
   "mimetype": "text/x-python",
   "name": "python",
   "nbconvert_exporter": "python",
   "pygments_lexer": "ipython3",
   "version": "3.8.8"
  }
 },
 "nbformat": 4,
 "nbformat_minor": 5
}
