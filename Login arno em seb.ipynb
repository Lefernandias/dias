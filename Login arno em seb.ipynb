{
 "cells": [
  {
   "cell_type": "code",
   "execution_count": 1,
   "id": "3703f033",
   "metadata": {},
   "outputs": [
    {
     "name": "stdout",
     "output_type": "stream",
     "text": [
      "Page is ready!\n"
     ]
    }
   ],
   "source": [
    "from selenium import webdriver\n",
    "from selenium.common.exceptions import TimeoutException\n",
    "from selenium.webdriver.common.keys import Keys\n",
    "from selenium.webdriver.remote.webelement import WebElement\n",
    "from selenium.webdriver.support.ui import WebDriverWait\n",
    "from selenium.webdriver.common.by import By\n",
    "from selenium.webdriver.support import expected_conditions as EC\n",
    "import time\n",
    "import pyautogui \n",
    "from selenium.webdriver.support.select import Select\n",
    "\n",
    "navegador = webdriver.Chrome(\"C:/Users/leandro.dias/Downloads/chromedriver.exe\")\n",
    "\n",
    "# função de login\n",
    "def loga():\n",
    "    navegador.get(\"https://www.b2wmarketplace.com.br/login\")\n",
    "    delay = 3\n",
    "    try:\n",
    "        myElem = WebDriverWait(navegador, delay).until(EC.presence_of_element_located((By.ID, 'ds-clickwrap')))\n",
    "        print(\"Page is ready!\")\n",
    "    except TimeoutException:\n",
    "        print(\"Loading took too much time!\")\n",
    "    time.sleep(1)\n",
    "    navegador.find_element_by_xpath('//*[@id=\"main\"]/app-login/main/section/div[1]/div[1]/form/div[1]/input').send_keys(\"arno_marketplace@synapcom.com.br\" + Keys.TAB)\n",
    "    #navegador.find_element_by_xpath('//*[@id=\"LoginDialog_armazemComboBox\"]').send_keys(Keys.UP, Keys.RETURN) # Cajamar\n",
    "    time.sleep(2)\n",
    "    navegador.find_element_by_xpath('//*[@id=\"main\"]/app-login/main/section/div[1]/div[1]/form/div[2]/input').send_keys(\"Arno@2021\" + Keys.TAB)\n",
    "    time.sleep(2)\n",
    "    navegador.find_element_by_xpath('//*[@id=\"main\"]/app-login/main/section/div[1]/div[1]/form/p/button').click()\n",
    "\n",
    "\n",
    "loga()\n",
    "\n"
   ]
  },
  {
   "cell_type": "code",
   "execution_count": 4,
   "id": "e7ceb8f1",
   "metadata": {},
   "outputs": [
    {
     "name": "stdout",
     "output_type": "stream",
     "text": [
      "Page is ready!\n"
     ]
    }
   ],
   "source": [
    "#login na amazon\n",
    "\n",
    "from selenium import webdriver\n",
    "from selenium.common.exceptions import TimeoutException\n",
    "from selenium.webdriver.common.keys import Keys\n",
    "from selenium.webdriver.remote.webelement import WebElement\n",
    "from selenium.webdriver.support.ui import WebDriverWait\n",
    "from selenium.webdriver.common.by import By\n",
    "from selenium.webdriver.support import expected_conditions as EC\n",
    "import time\n",
    "import pyautogui \n",
    "from selenium.webdriver.support.select import Select\n",
    "\n",
    "navegador = webdriver.Chrome(\"C:/Users/leandro.dias/Downloads/chromedriver.exe\")\n",
    "\n",
    "# função de login\n",
    "def loga():\n",
    "    navegador.get(\"https://sellercentral.amazon.com/ap/signin?openid.pape.max_auth_age=0&openid.return_to=https%3A%2F%2Fsellercentral.amazon.com%2Fhome&openid.identity=http%3A%2F%2Fspecs.openid.net%2Fauth%2F2.0%2Fidentifier_select&openid.assoc_handle=sc_na_amazon_v2&openid.mode=checkid_setup&language=en_US&openid.claimed_id=http%3A%2F%2Fspecs.openid.net%2Fauth%2F2.0%2Fidentifier_select&pageId=sc_na_amazon_v2&openid.ns=http%3A%2F%2Fspecs.openid.net%2Fauth%2F2.0&ssoResponse=eyJ6aXAiOiJERUYiLCJlbmMiOiJBMjU2R0NNIiwiYWxnIjoiQTI1NktXIn0.wfS_4GdL4NGCWNq2SoawJF3OkdfD4YyCLB4BMcR4_FB0_oKmGbnUtA.QICgL3yfkYe5b8xO.ge700vsVLYCvSOV9-BDEBc8CjfBFb0h1K60--lxH-ruaOAjFhsZwJ11MhgAOuy80v8raKZiy7yA_Og7_7AVl_ZWnAJxqAZsLmq1rM4cww3IijiPHlrApqei9waWVJJwUdblO5PVW2ZI7WBtJQz8guwPkBIQoOtU-VD_01R4UYpipdtF_8Fp5kP_pqVe80iJtDrbV7XKdFNpeqnZjn6VTqCWtvD24BR60735lIMlue5_kpsKtW1Ct3r5vZXvQYu5a9Es.gQw62xXKj_ZNNUbo0igwLw\")\n",
    "    delay = 3\n",
    "    try:\n",
    "        myElem = WebDriverWait(navegador, delay).until(EC.presence_of_element_located((By.ID, 'a-page')))\n",
    "        print(\"Page is ready!\")\n",
    "    except TimeoutException:\n",
    "        print(\"Loading took too much time!\")\n",
    "    time.sleep(1)\n",
    "    navegador.find_element_by_xpath('//*[@id=\"ap_email\"]').send_keys(\"arno_marketplace@synapcom.com.br\" + Keys.TAB)\n",
    "    #navegador.find_element_by_xpath('//*[@id=\"LoginDialog_armazemComboBox\"]').send_keys(Keys.UP, Keys.RETURN) # Cajamar\n",
    "    time.sleep(2)\n",
    "    navegador.find_element_by_xpath('//*[@id=\"password\"]').send_keys(\"Synapcom@21\" + Keys.TAB)\n",
    "    time.sleep(2)\n",
    "    navegador.find_element_by_xpath('//*[@id=\"kc-login\"]').click()\n",
    "\n",
    "\n",
    "loga()"
   ]
  },
  {
   "cell_type": "code",
   "execution_count": 5,
   "id": "65694142",
   "metadata": {},
   "outputs": [
    {
     "name": "stdout",
     "output_type": "stream",
     "text": [
      "Page is ready!\n"
     ]
    }
   ],
   "source": [
    "#login no carrefour\n",
    "\n",
    "from selenium import webdriver\n",
    "from selenium.common.exceptions import TimeoutException\n",
    "from selenium.webdriver.common.keys import Keys\n",
    "from selenium.webdriver.remote.webelement import WebElement\n",
    "from selenium.webdriver.support.ui import WebDriverWait\n",
    "from selenium.webdriver.common.by import By\n",
    "from selenium.webdriver.support import expected_conditions as EC\n",
    "import time\n",
    "import pyautogui \n",
    "from selenium.webdriver.support.select import Select\n",
    "\n",
    "navegador = webdriver.Chrome(\"C:/Users/leandro.dias/Downloads/chromedriver.exe\")\n",
    "\n",
    "# função de login\n",
    "def loga():\n",
    "    navegador.get(\"https://marketplace.carrefour.com.br/login\")\n",
    "    delay = 3\n",
    "    try:\n",
    "        myElem = WebDriverWait(navegador, delay).until(EC.presence_of_element_located((By.ID, 'submitButton')))\n",
    "        print(\"Page is ready!\")\n",
    "    except TimeoutException:\n",
    "        print(\"Loading took too much time!\")\n",
    "    time.sleep(1)\n",
    "    navegador.find_element_by_xpath('//*[@id=\"username\"]').send_keys(\"arno_marketplace@synapcom.com.br\" + Keys.ENTER)\n",
    "    #navegador.find_element_by_xpath('//*[@id=\"LoginDialog_armazemComboBox\"]').send_keys(Keys.UP, Keys.RETURN) # Cajamar\n",
    "    time.sleep(2)\n",
    "    navegador.find_element_by_xpath('//*[@id=\"password\"]').send_keys(\"Arno@2021*\" + Keys.ENTER)\n",
    "    time.sleep(2)\n",
    "    #navegador.find_element_by_xpath('//*[@id=\"signInSubmit\"]').click()\n",
    "\n",
    "\n",
    "loga()"
   ]
  },
  {
   "cell_type": "code",
   "execution_count": 14,
   "id": "5d903d24",
   "metadata": {},
   "outputs": [
    {
     "name": "stdout",
     "output_type": "stream",
     "text": [
      "Page is ready!\n"
     ]
    },
    {
     "ename": "NoSuchElementException",
     "evalue": "Message: no such element: Unable to locate element: {\"method\":\"xpath\",\"selector\":\"//*[@id=\"signInSubmit\"]\"}\n  (Session info: chrome=94.0.4606.61)\n",
     "output_type": "error",
     "traceback": [
      "\u001b[1;31m---------------------------------------------------------------------------\u001b[0m",
      "\u001b[1;31mNoSuchElementException\u001b[0m                    Traceback (most recent call last)",
      "\u001b[1;32m<ipython-input-14-5fdee22a68d7>\u001b[0m in \u001b[0;36m<module>\u001b[1;34m\u001b[0m\n\u001b[0;32m     32\u001b[0m \u001b[1;33m\u001b[0m\u001b[0m\n\u001b[0;32m     33\u001b[0m \u001b[1;33m\u001b[0m\u001b[0m\n\u001b[1;32m---> 34\u001b[1;33m \u001b[0mloga\u001b[0m\u001b[1;33m(\u001b[0m\u001b[1;33m)\u001b[0m\u001b[1;33m\u001b[0m\u001b[1;33m\u001b[0m\u001b[0m\n\u001b[0m",
      "\u001b[1;32m<ipython-input-14-5fdee22a68d7>\u001b[0m in \u001b[0;36mloga\u001b[1;34m()\u001b[0m\n\u001b[0;32m     29\u001b[0m     \u001b[0mnavegador\u001b[0m\u001b[1;33m.\u001b[0m\u001b[0mfind_element_by_xpath\u001b[0m\u001b[1;33m(\u001b[0m\u001b[1;34m'//*[@id=\"password\"]'\u001b[0m\u001b[1;33m)\u001b[0m\u001b[1;33m.\u001b[0m\u001b[0msend_keys\u001b[0m\u001b[1;33m(\u001b[0m\u001b[1;34m\"Synapcom@2020*\"\u001b[0m \u001b[1;33m+\u001b[0m \u001b[0mKeys\u001b[0m\u001b[1;33m.\u001b[0m\u001b[0mENTER\u001b[0m\u001b[1;33m)\u001b[0m\u001b[1;33m\u001b[0m\u001b[1;33m\u001b[0m\u001b[0m\n\u001b[0;32m     30\u001b[0m     \u001b[0mtime\u001b[0m\u001b[1;33m.\u001b[0m\u001b[0msleep\u001b[0m\u001b[1;33m(\u001b[0m\u001b[1;36m2\u001b[0m\u001b[1;33m)\u001b[0m\u001b[1;33m\u001b[0m\u001b[1;33m\u001b[0m\u001b[0m\n\u001b[1;32m---> 31\u001b[1;33m     \u001b[0mnavegador\u001b[0m\u001b[1;33m.\u001b[0m\u001b[0mfind_element_by_xpath\u001b[0m\u001b[1;33m(\u001b[0m\u001b[1;34m'//*[@id=\"signInSubmit\"]'\u001b[0m\u001b[1;33m)\u001b[0m\u001b[1;33m.\u001b[0m\u001b[0mclick\u001b[0m\u001b[1;33m(\u001b[0m\u001b[1;33m)\u001b[0m\u001b[1;33m\u001b[0m\u001b[1;33m\u001b[0m\u001b[0m\n\u001b[0m\u001b[0;32m     32\u001b[0m \u001b[1;33m\u001b[0m\u001b[0m\n\u001b[0;32m     33\u001b[0m \u001b[1;33m\u001b[0m\u001b[0m\n",
      "\u001b[1;32m~\\Anaconda3\\lib\\site-packages\\selenium\\webdriver\\remote\\webdriver.py\u001b[0m in \u001b[0;36mfind_element_by_xpath\u001b[1;34m(self, xpath)\u001b[0m\n\u001b[0;32m    392\u001b[0m             \u001b[0melement\u001b[0m \u001b[1;33m=\u001b[0m \u001b[0mdriver\u001b[0m\u001b[1;33m.\u001b[0m\u001b[0mfind_element_by_xpath\u001b[0m\u001b[1;33m(\u001b[0m\u001b[1;34m'//div/td[1]'\u001b[0m\u001b[1;33m)\u001b[0m\u001b[1;33m\u001b[0m\u001b[1;33m\u001b[0m\u001b[0m\n\u001b[0;32m    393\u001b[0m         \"\"\"\n\u001b[1;32m--> 394\u001b[1;33m         \u001b[1;32mreturn\u001b[0m \u001b[0mself\u001b[0m\u001b[1;33m.\u001b[0m\u001b[0mfind_element\u001b[0m\u001b[1;33m(\u001b[0m\u001b[0mby\u001b[0m\u001b[1;33m=\u001b[0m\u001b[0mBy\u001b[0m\u001b[1;33m.\u001b[0m\u001b[0mXPATH\u001b[0m\u001b[1;33m,\u001b[0m \u001b[0mvalue\u001b[0m\u001b[1;33m=\u001b[0m\u001b[0mxpath\u001b[0m\u001b[1;33m)\u001b[0m\u001b[1;33m\u001b[0m\u001b[1;33m\u001b[0m\u001b[0m\n\u001b[0m\u001b[0;32m    395\u001b[0m \u001b[1;33m\u001b[0m\u001b[0m\n\u001b[0;32m    396\u001b[0m     \u001b[1;32mdef\u001b[0m \u001b[0mfind_elements_by_xpath\u001b[0m\u001b[1;33m(\u001b[0m\u001b[0mself\u001b[0m\u001b[1;33m,\u001b[0m \u001b[0mxpath\u001b[0m\u001b[1;33m)\u001b[0m\u001b[1;33m:\u001b[0m\u001b[1;33m\u001b[0m\u001b[1;33m\u001b[0m\u001b[0m\n",
      "\u001b[1;32m~\\Anaconda3\\lib\\site-packages\\selenium\\webdriver\\remote\\webdriver.py\u001b[0m in \u001b[0;36mfind_element\u001b[1;34m(self, by, value)\u001b[0m\n\u001b[0;32m    974\u001b[0m                 \u001b[0mby\u001b[0m \u001b[1;33m=\u001b[0m \u001b[0mBy\u001b[0m\u001b[1;33m.\u001b[0m\u001b[0mCSS_SELECTOR\u001b[0m\u001b[1;33m\u001b[0m\u001b[1;33m\u001b[0m\u001b[0m\n\u001b[0;32m    975\u001b[0m                 \u001b[0mvalue\u001b[0m \u001b[1;33m=\u001b[0m \u001b[1;34m'[name=\"%s\"]'\u001b[0m \u001b[1;33m%\u001b[0m \u001b[0mvalue\u001b[0m\u001b[1;33m\u001b[0m\u001b[1;33m\u001b[0m\u001b[0m\n\u001b[1;32m--> 976\u001b[1;33m         return self.execute(Command.FIND_ELEMENT, {\n\u001b[0m\u001b[0;32m    977\u001b[0m             \u001b[1;34m'using'\u001b[0m\u001b[1;33m:\u001b[0m \u001b[0mby\u001b[0m\u001b[1;33m,\u001b[0m\u001b[1;33m\u001b[0m\u001b[1;33m\u001b[0m\u001b[0m\n\u001b[0;32m    978\u001b[0m             'value': value})['value']\n",
      "\u001b[1;32m~\\Anaconda3\\lib\\site-packages\\selenium\\webdriver\\remote\\webdriver.py\u001b[0m in \u001b[0;36mexecute\u001b[1;34m(self, driver_command, params)\u001b[0m\n\u001b[0;32m    319\u001b[0m         \u001b[0mresponse\u001b[0m \u001b[1;33m=\u001b[0m \u001b[0mself\u001b[0m\u001b[1;33m.\u001b[0m\u001b[0mcommand_executor\u001b[0m\u001b[1;33m.\u001b[0m\u001b[0mexecute\u001b[0m\u001b[1;33m(\u001b[0m\u001b[0mdriver_command\u001b[0m\u001b[1;33m,\u001b[0m \u001b[0mparams\u001b[0m\u001b[1;33m)\u001b[0m\u001b[1;33m\u001b[0m\u001b[1;33m\u001b[0m\u001b[0m\n\u001b[0;32m    320\u001b[0m         \u001b[1;32mif\u001b[0m \u001b[0mresponse\u001b[0m\u001b[1;33m:\u001b[0m\u001b[1;33m\u001b[0m\u001b[1;33m\u001b[0m\u001b[0m\n\u001b[1;32m--> 321\u001b[1;33m             \u001b[0mself\u001b[0m\u001b[1;33m.\u001b[0m\u001b[0merror_handler\u001b[0m\u001b[1;33m.\u001b[0m\u001b[0mcheck_response\u001b[0m\u001b[1;33m(\u001b[0m\u001b[0mresponse\u001b[0m\u001b[1;33m)\u001b[0m\u001b[1;33m\u001b[0m\u001b[1;33m\u001b[0m\u001b[0m\n\u001b[0m\u001b[0;32m    322\u001b[0m             response['value'] = self._unwrap_value(\n\u001b[0;32m    323\u001b[0m                 response.get('value', None))\n",
      "\u001b[1;32m~\\Anaconda3\\lib\\site-packages\\selenium\\webdriver\\remote\\errorhandler.py\u001b[0m in \u001b[0;36mcheck_response\u001b[1;34m(self, response)\u001b[0m\n\u001b[0;32m    240\u001b[0m                 \u001b[0malert_text\u001b[0m \u001b[1;33m=\u001b[0m \u001b[0mvalue\u001b[0m\u001b[1;33m[\u001b[0m\u001b[1;34m'alert'\u001b[0m\u001b[1;33m]\u001b[0m\u001b[1;33m.\u001b[0m\u001b[0mget\u001b[0m\u001b[1;33m(\u001b[0m\u001b[1;34m'text'\u001b[0m\u001b[1;33m)\u001b[0m\u001b[1;33m\u001b[0m\u001b[1;33m\u001b[0m\u001b[0m\n\u001b[0;32m    241\u001b[0m             \u001b[1;32mraise\u001b[0m \u001b[0mexception_class\u001b[0m\u001b[1;33m(\u001b[0m\u001b[0mmessage\u001b[0m\u001b[1;33m,\u001b[0m \u001b[0mscreen\u001b[0m\u001b[1;33m,\u001b[0m \u001b[0mstacktrace\u001b[0m\u001b[1;33m,\u001b[0m \u001b[0malert_text\u001b[0m\u001b[1;33m)\u001b[0m\u001b[1;33m\u001b[0m\u001b[1;33m\u001b[0m\u001b[0m\n\u001b[1;32m--> 242\u001b[1;33m         \u001b[1;32mraise\u001b[0m \u001b[0mexception_class\u001b[0m\u001b[1;33m(\u001b[0m\u001b[0mmessage\u001b[0m\u001b[1;33m,\u001b[0m \u001b[0mscreen\u001b[0m\u001b[1;33m,\u001b[0m \u001b[0mstacktrace\u001b[0m\u001b[1;33m)\u001b[0m\u001b[1;33m\u001b[0m\u001b[1;33m\u001b[0m\u001b[0m\n\u001b[0m\u001b[0;32m    243\u001b[0m \u001b[1;33m\u001b[0m\u001b[0m\n\u001b[0;32m    244\u001b[0m     \u001b[1;32mdef\u001b[0m \u001b[0m_value_or_default\u001b[0m\u001b[1;33m(\u001b[0m\u001b[0mself\u001b[0m\u001b[1;33m,\u001b[0m \u001b[0mobj\u001b[0m\u001b[1;33m,\u001b[0m \u001b[0mkey\u001b[0m\u001b[1;33m,\u001b[0m \u001b[0mdefault\u001b[0m\u001b[1;33m)\u001b[0m\u001b[1;33m:\u001b[0m\u001b[1;33m\u001b[0m\u001b[1;33m\u001b[0m\u001b[0m\n",
      "\u001b[1;31mNoSuchElementException\u001b[0m: Message: no such element: Unable to locate element: {\"method\":\"xpath\",\"selector\":\"//*[@id=\"signInSubmit\"]\"}\n  (Session info: chrome=94.0.4606.61)\n"
     ]
    }
   ],
   "source": [
    "#login no kabum\n",
    "\n",
    "from selenium import webdriver\n",
    "from selenium.common.exceptions import TimeoutException\n",
    "from selenium.webdriver.common.keys import Keys\n",
    "from selenium.webdriver.remote.webelement import WebElement\n",
    "from selenium.webdriver.support.ui import WebDriverWait\n",
    "from selenium.webdriver.common.by import By\n",
    "from selenium.webdriver.support import expected_conditions as EC\n",
    "import time\n",
    "import pyautogui \n",
    "from selenium.webdriver.support.select import Select\n",
    "\n",
    "navegador = webdriver.Chrome(\"C:/Users/leandro.dias/Downloads/chromedriver.exe\")\n",
    "\n",
    "# função de login\n",
    "def loga():\n",
    "    navegador.get(\"https://marketplace-kabum.mirakl.net/login\")\n",
    "    delay = 3\n",
    "    try:\n",
    "        myElem = WebDriverWait(navegador, delay).until(EC.presence_of_element_located((By.ID, 'submitButton')))\n",
    "        print(\"Page is ready!\")\n",
    "    except TimeoutException:\n",
    "        print(\"Loading took too much time!\")\n",
    "    time.sleep(1)\n",
    "    navegador.find_element_by_xpath('//*[@id=\"username\"]').send_keys(\"arno_marketplace@synapcom.com.br\" + Keys.ENTER)\n",
    "    #navegador.find_element_by_xpath('//*[@id=\"LoginDialog_armazemComboBox\"]').send_keys(Keys.UP, Keys.RETURN) # Cajamar\n",
    "    time.sleep(2)\n",
    "    navegador.find_element_by_xpath('//*[@id=\"password\"]').send_keys(\"Synapcom@2020*\" + Keys.ENTER)\n",
    "    time.sleep(2)\n",
    "    #navegador.find_element_by_xpath('//*[@id=\"signInSubmit\"]').click()\n",
    "\n",
    "\n",
    "loga()"
   ]
  },
  {
   "cell_type": "code",
   "execution_count": 12,
   "id": "c7e49b39",
   "metadata": {},
   "outputs": [
    {
     "name": "stdout",
     "output_type": "stream",
     "text": [
      "Page is ready!\n"
     ]
    }
   ],
   "source": [
    "#login no magalu\n",
    "\n",
    "from selenium import webdriver\n",
    "from selenium.common.exceptions import TimeoutException\n",
    "from selenium.webdriver.common.keys import Keys\n",
    "from selenium.webdriver.remote.webelement import WebElement\n",
    "from selenium.webdriver.support.ui import WebDriverWait\n",
    "from selenium.webdriver.common.by import By\n",
    "from selenium.webdriver.support import expected_conditions as EC\n",
    "import time\n",
    "import pyautogui \n",
    "from selenium.webdriver.support.select import Select\n",
    "\n",
    "navegador = webdriver.Chrome(\"C:/Users/leandro.dias/Downloads/chromedriver.exe\")\n",
    "\n",
    "# função de login\n",
    "def loga():\n",
    "    navegador.get(\"https://marketplace.integracommerce.com.br\")\n",
    "    delay = 3\n",
    "    try:\n",
    "        myElem = WebDriverWait(navegador, delay).until(EC.presence_of_element_located((By.ID, 'kc-logo-magalu')))\n",
    "        print(\"Page is ready!\")\n",
    "    except TimeoutException:\n",
    "        print(\"Loading took too much time!\")\n",
    "    time.sleep(1)\n",
    "    navegador.find_element_by_xpath('//*[@id=\"username\"]').send_keys(\"arno_marketplace@synapcom.com.br\" + Keys.TAB)\n",
    "    #navegador.find_element_by_xpath('//*[@id=\"LoginDialog_armazemComboBox\"]').send_keys(Keys.UP, Keys.RETURN) # Cajamar\n",
    "    time.sleep(2)\n",
    "    navegador.find_element_by_xpath('//*[@id=\"password\"]').send_keys(\"Synapcom@21\" + Keys.ENTER)\n",
    "    time.sleep(2)\n",
    "    #navegador.find_element_by_xpath('//*[@id=\"kc-login\"]').click()\n",
    "\n",
    "\n",
    "loga()"
   ]
  },
  {
   "cell_type": "code",
   "execution_count": 16,
   "id": "1a43b375",
   "metadata": {},
   "outputs": [
    {
     "name": "stdout",
     "output_type": "stream",
     "text": [
      "Page is ready!\n"
     ]
    }
   ],
   "source": [
    "#zoom\n",
    "\n",
    "from selenium import webdriver\n",
    "from selenium.common.exceptions import TimeoutException\n",
    "from selenium.webdriver.common.keys import Keys\n",
    "from selenium.webdriver.remote.webelement import WebElement\n",
    "from selenium.webdriver.support.ui import WebDriverWait\n",
    "from selenium.webdriver.common.by import By\n",
    "from selenium.webdriver.support import expected_conditions as EC\n",
    "import time\n",
    "from selenium.webdriver.support.select import Select\n",
    "\n",
    "navegador = webdriver.Chrome(\"C:/Users/leandro.dias/Downloads/chromedriver.exe\")\n",
    "\n",
    "# função de login\n",
    "def loga47():\n",
    "    navegador.get(\"https://anunciante.zoom.com.br/home\")\n",
    "    delay = 3\n",
    "    try:\n",
    "        myElem = WebDriverWait(navegador, delay).until(EC.presence_of_element_located((By.ID, 'login_form')))\n",
    "        print(\"Page is ready!\")\n",
    "    except TimeoutException:\n",
    "        print(\"Loading took too much time!\")\n",
    "    time.sleep(1)\n",
    "    navegador.find_element_by_xpath('//*[@id=\"username\"]').send_keys(\"synapcom 2\" + Keys.TAB)\n",
    "    #navegador.find_element_by_xpath('//*[@id=\"LoginDialog_armazemComboBox\"]').send_keys(Keys.UP, Keys.RETURN) # Cajamar\n",
    "    time.sleep(2)\n",
    "    navegador.find_element_by_xpath('//*[@id=\"password\"]').send_keys(\"fRjfWfhs\" + Keys.TAB)\n",
    "    time.sleep(2)\n",
    "    navegador.find_element_by_xpath('//*[@id=\"login_form\"]/div[4]/button').click()\n",
    "\n",
    "\n",
    "loga()"
   ]
  },
  {
   "cell_type": "code",
   "execution_count": 21,
   "id": "3146525e",
   "metadata": {},
   "outputs": [
    {
     "name": "stdout",
     "output_type": "stream",
     "text": [
      "Page is ready!\n"
     ]
    }
   ],
   "source": [
    "#skyhub\n",
    "\n",
    "from selenium import webdriver\n",
    "from selenium.common.exceptions import TimeoutException\n",
    "from selenium.webdriver.common.keys import Keys\n",
    "from selenium.webdriver.remote.webelement import WebElement\n",
    "from selenium.webdriver.support.ui import WebDriverWait\n",
    "from selenium.webdriver.common.by import By\n",
    "from selenium.webdriver.support import expected_conditions as EC\n",
    "import time\n",
    "from selenium.webdriver.support.select import Select\n",
    "\n",
    "navegador = webdriver.Chrome(\"C:/Users/leandro.dias/Downloads/chromedriver.exe\")\n",
    "\n",
    "# função de login\n",
    "def loga48():\n",
    "    navegador.get(\"https://in.skyhub.com.br/users/sign_in#/\")\n",
    "    delay = 3\n",
    "    try:\n",
    "        myElem = WebDriverWait(navegador, delay).until(EC.presence_of_element_located((By.ID, 'main-content')))\n",
    "        print(\"Page is ready!\")\n",
    "    except TimeoutException:\n",
    "        print(\"Loading took too much time!\")\n",
    "    time.sleep(1)\n",
    "    navegador.find_element_by_xpath('//*[@id=\"user_email\"]').send_keys(\"arno_marketplace@synapcom.com.br\" + Keys.TAB)\n",
    "    #navegador.find_element_by_xpath('//*[@id=\"LoginDialog_armazemComboBox\"]').send_keys(Keys.UP, Keys.RETURN) # Cajamar\n",
    "    time.sleep(2)\n",
    "    navegador.find_element_by_xpath('//*[@id=\"user_password\"]').send_keys(\"Synapcom@23\" + Keys.TAB)\n",
    "    time.sleep(2)\n",
    "    navegador.find_element_by_xpath('//*[@id=\"new_user\"]/fieldset/div[2]/div/input').click()\n",
    "\n",
    "\n",
    "loga48()\n",
    "\n",
    "\n"
   ]
  },
  {
   "cell_type": "code",
   "execution_count": null,
   "id": "ac414c47",
   "metadata": {},
   "outputs": [],
   "source": []
  }
 ],
 "metadata": {
  "kernelspec": {
   "display_name": "Python 3",
   "language": "python",
   "name": "python3"
  },
  "language_info": {
   "codemirror_mode": {
    "name": "ipython",
    "version": 3
   },
   "file_extension": ".py",
   "mimetype": "text/x-python",
   "name": "python",
   "nbconvert_exporter": "python",
   "pygments_lexer": "ipython3",
   "version": "3.8.8"
  }
 },
 "nbformat": 4,
 "nbformat_minor": 5
}
