{
 "cells": [
  {
   "cell_type": "code",
   "execution_count": null,
   "id": "3b719294",
   "metadata": {},
   "outputs": [],
   "source": [
    "import pandas as pd\n",
    "\n",
    "import urllib\n",
    "\n",
    "registros_df = pd.read_excel (\"sebnf.xlsx\")\n",
    "display(registros_df)\n",
    "\n",
    "from selenium import webdriver\n",
    "from selenium.webdriver.common.keys import Keys\n",
    "import time\n",
    "\n",
    "# abre nova aba no navegador com o whatsapp na tela que scaneia o qr code\n",
    "navegador = webdriver.Chrome()\n",
    "navegador.get(\"https://web.whatsapp.com/\")\n",
    "# valida se o whatsapp abriu lendo do elemento \"side\" no html da pagina.\n",
    "while len(navegador.find_elements_by_id(\"side\")) < 1:\n",
    "    time.sleep(1)\n",
    "\n",
    "# identica se o login foi execudado com sucesso\n",
    "\n",
    "for i, mensagem in enumerate(registros_df['Pedido - Número' ]):  \n",
    "    canal = registros_df.loc[i, \"Pedido - Canal de vendas\"]\n",
    "    numero = 5511984066649\n",
    "    valor = registros_df.loc[i, \"NF - Vlr. mercadorias\"]\n",
    "    texto = urllib.parse.quote(f\"Oi Assis seu pedido: {mensagem}! Canal: {canal} No valor de: {valor}\") \n",
    "    link = f\"https://web.whatsapp.com/send?phone={numero}&text={texto}\"\n",
    "    navegador.get(link)\n",
    "    while len(navegador.find_elements_by_id(\"side\")) < 1:\n",
    "        time.sleep(10)\n",
    "    navegador.find_element_by_xpath('//*[@id=\"main\"]/footer/div[1]/div[2]/div/div[2]').send_keys(Keys.ENTER)\n",
    "    time.sleep(10)"
   ]
  }
 ],
 "metadata": {
  "kernelspec": {
   "display_name": "Python 3",
   "language": "python",
   "name": "python3"
  },
  "language_info": {
   "codemirror_mode": {
    "name": "ipython",
    "version": 3
   },
   "file_extension": ".py",
   "mimetype": "text/x-python",
   "name": "python",
   "nbconvert_exporter": "python",
   "pygments_lexer": "ipython3",
   "version": "3.8.8"
  }
 },
 "nbformat": 4,
 "nbformat_minor": 5
}
