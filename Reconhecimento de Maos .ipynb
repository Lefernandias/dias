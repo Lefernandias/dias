{
 "cells": [
  {
   "cell_type": "code",
   "execution_count": 1,
   "id": "5132ab89",
   "metadata": {
    "scrolled": true
   },
   "outputs": [],
   "source": [
    "import cv2\n",
    "import mediapipe as mp\n",
    "\n",
    "webcam = cv2.VideoCapture(0)\n",
    "reconhecimento_maos = mp.solutions.hands\n",
    "desenho_mp = mp.solutions.drawing_utils\n",
    "maos = reconhecimento_maos.Hands()\n",
    "\n",
    "if webcam.isOpened():\n",
    "    validacao, frame = webcam.read()\n",
    "    \n",
    "    \n",
    "\n",
    "   \n",
    "    while validacao:\n",
    "        validacao, frame = webcam.read()\n",
    "        frameRGB = cv2.cvtColor(frame, cv2.COLOR_BGR2RGB)\n",
    "        lista_maos = maos.process(frameRGB)\n",
    "        if lista_maos.multi_hand_landmarks:\n",
    "            for mao in lista_maos.multi_hand_landmarks:\n",
    "                desenho_mp.draw_landmarks(frame, mao, reconhecimento_maos.HAND_CONNECTIONS)\n",
    "        #print(lista)\n",
    "        #print(webcam.read()\n",
    "        cv2.imshow(\"Video da Webcam\", frame)\n",
    "        tecla = cv2.waitKey(2)\n",
    "              \n",
    "        if tecla == 27:\n",
    "              break\n",
    "\n",
    "webcam.release()\n",
    "cv2.destroyAllWindows()"
   ]
  },
  {
   "cell_type": "code",
   "execution_count": null,
   "id": "9ebc7b7b",
   "metadata": {},
   "outputs": [],
   "source": []
  },
  {
   "cell_type": "code",
   "execution_count": null,
   "id": "9477627c",
   "metadata": {},
   "outputs": [],
   "source": []
  }
 ],
 "metadata": {
  "kernelspec": {
   "display_name": "Python 3",
   "language": "python",
   "name": "python3"
  },
  "language_info": {
   "codemirror_mode": {
    "name": "ipython",
    "version": 3
   },
   "file_extension": ".py",
   "mimetype": "text/x-python",
   "name": "python",
   "nbconvert_exporter": "python",
   "pygments_lexer": "ipython3",
   "version": "3.8.8"
  }
 },
 "nbformat": 4,
 "nbformat_minor": 5
}
